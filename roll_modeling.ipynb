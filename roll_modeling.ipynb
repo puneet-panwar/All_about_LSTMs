{
  "nbformat": 4,
  "nbformat_minor": 0,
  "metadata": {
    "colab": {
      "name": "roll_modeling.ipynb",
      "provenance": [],
      "authorship_tag": "ABX9TyMyZ4g3JWSJaZdQOUaYuPjw",
      "include_colab_link": true
    },
    "kernelspec": {
      "name": "python3",
      "display_name": "Python 3"
    },
    "language_info": {
      "name": "python"
    }
  },
  "cells": [
    {
      "cell_type": "markdown",
      "metadata": {
        "id": "view-in-github",
        "colab_type": "text"
      },
      "source": [
        "<a href=\"https://colab.research.google.com/github/puneet-panwar/All_about_LSTMs/blob/main/roll_modeling.ipynb\" target=\"_parent\"><img src=\"https://colab.research.google.com/assets/colab-badge.svg\" alt=\"Open In Colab\"/></a>"
      ]
    },
    {
      "cell_type": "code",
      "execution_count": 16,
      "metadata": {
        "colab": {
          "base_uri": "https://localhost:8080/",
          "height": 139
        },
        "id": "bAcxZhkm8E0Z",
        "outputId": "003c5f85-c72b-4d65-f7bb-1909d4e55174"
      },
      "outputs": [
        {
          "output_type": "stream",
          "name": "stdout",
          "text": [
            "Cloning into 'All_about_LSTMs'...\n",
            "remote: Enumerating objects: 18, done.\u001b[K\n",
            "remote: Counting objects: 100% (18/18), done.\u001b[K\n",
            "remote: Compressing objects: 100% (14/14), done.\u001b[K\n",
            "remote: Total 18 (delta 2), reused 0 (delta 0), pack-reused 0\u001b[K\n",
            "Unpacking objects: 100% (18/18), done.\n"
          ]
        },
        {
          "output_type": "execute_result",
          "data": {
            "text/plain": [
              "'/content/All_about_LSTMs'"
            ],
            "application/vnd.google.colaboratory.intrinsic+json": {
              "type": "string"
            }
          },
          "metadata": {},
          "execution_count": 16
        }
      ],
      "source": [
        "!git clone https://github.com/puneet-panwar/All_about_LSTMs\n",
        "%pwd"
      ]
    },
    {
      "cell_type": "code",
      "source": [
        "%ls\n",
        "%cd All_about_LSTMs"
      ],
      "metadata": {
        "colab": {
          "base_uri": "https://localhost:8080/"
        },
        "id": "MH85_34L-zFB",
        "outputId": "d35060bb-248c-4e6f-f2a7-7108af2e74ce"
      },
      "execution_count": 12,
      "outputs": [
        {
          "output_type": "stream",
          "name": "stdout",
          "text": [
            "\u001b[0m\u001b[01;34mAll_about_LSTMs\u001b[0m/  \u001b[01;34msample_data\u001b[0m/\n",
            "/content/All_about_LSTMs\n"
          ]
        }
      ]
    },
    {
      "cell_type": "code",
      "source": [
        "import pandas as pd\n",
        "df = pd.read_csv('data/roll_02_05_2022.txt', delimiter=r\"\\s+\") # df--> data frame\n",
        "#df = pd.read_csv('data/roll_02_05_2022.txt') # df--> data frame\n",
        "result = df.head(10)\n",
        "print(\"First 10 rows of the DataFrame:\")\n",
        "print(result)\n",
        "#print(size(df))\n",
        "#reader = csv.reader(open(\"data/roll_02_05_2022.txt\"), delimiter=\"\\t\") # '\\t' for tab and '\\s' for space delimited files"
      ],
      "metadata": {
        "colab": {
          "base_uri": "https://localhost:8080/"
        },
        "id": "N1kKQAyF_F1u",
        "outputId": "955a9a15-8d73-4a7a-f892-227e2a4eafe9"
      },
      "execution_count": 25,
      "outputs": [
        {
          "output_type": "stream",
          "name": "stdout",
          "text": [
            "First 10 rows of the DataFrame:\n",
            "                                                                                       dt=0.00625sec,  \\\n",
            "Time(Sec) X_ref_pos(i) X_enc_pos(i) X_pos_err(i) X_vel_ff(f) X_vel_fbf(f) X_ref_acc(f)   X_command(f)   \n",
            "0.000000  120000       120001       -1           0           -841.466     0                   5.44362   \n",
            "0.006250  120000       120001       -1           0           -380.157     0                   5.38166   \n",
            "0.012500  120000       120001       -1           0           -1380.49     0                   5.52079   \n",
            "0.018750  120000       120002       -2           0           -11.3194     0                   5.31762   \n",
            "0.025000  120000       120001       -1           0           599.367      0                   5.24705   \n",
            "0.031250  120000       120001       -1           0           -65.9449     0                    5.3418   \n",
            "0.037500  120000       120001       -1           0           -32.0204     0                   5.33183   \n",
            "0.043750  120000       120002       -2           0           164.021      0                   5.29217   \n",
            "0.050000  120000       120001       -1           0           -543.067     0                   5.40429   \n",
            "\n",
            "                                                                                          4878samples  \n",
            "Time(Sec) X_ref_pos(i) X_enc_pos(i) X_pos_err(i) X_vel_ff(f) X_vel_fbf(f) X_ref_acc(f)  X_curr_abs(f)  \n",
            "0.000000  120000       120001       -1           0           -841.466     0                 0.0327418  \n",
            "0.006250  120000       120001       -1           0           -380.157     0                   0.04831  \n",
            "0.012500  120000       120001       -1           0           -1380.49     0                  0.041377  \n",
            "0.018750  120000       120002       -2           0           -11.3194     0                 0.0511831  \n",
            "0.025000  120000       120001       -1           0           599.367      0                 0.0650391  \n",
            "0.031250  120000       120001       -1           0           -65.9449     0                 0.0929801  \n",
            "0.037500  120000       120001       -1           0           -32.0204     0                 0.0185892  \n",
            "0.043750  120000       120002       -2           0           164.021      0                 0.0465822  \n",
            "0.050000  120000       120001       -1           0           -543.067     0                 0.0243876  \n"
          ]
        }
      ]
    },
    {
      "cell_type": "code",
      "source": [
        "df2 = df.iloc[0:1 , :]"
      ],
      "metadata": {
        "id": "KNDeeI4r_XHp"
      },
      "execution_count": 26,
      "outputs": []
    },
    {
      "cell_type": "code",
      "source": [
        "print(df.head())"
      ],
      "metadata": {
        "colab": {
          "base_uri": "https://localhost:8080/"
        },
        "id": "BW60vqJECpvV",
        "outputId": "e28bb69e-e864-455d-995b-98ae612ea4ed"
      },
      "execution_count": 28,
      "outputs": [
        {
          "output_type": "stream",
          "name": "stdout",
          "text": [
            "                                                                                       dt=0.00625sec,  \\\n",
            "Time(Sec) X_ref_pos(i) X_enc_pos(i) X_pos_err(i) X_vel_ff(f) X_vel_fbf(f) X_ref_acc(f)   X_command(f)   \n",
            "0.000000  120000       120001       -1           0           -841.466     0                   5.44362   \n",
            "0.006250  120000       120001       -1           0           -380.157     0                   5.38166   \n",
            "0.012500  120000       120001       -1           0           -1380.49     0                   5.52079   \n",
            "0.018750  120000       120002       -2           0           -11.3194     0                   5.31762   \n",
            "\n",
            "                                                                                          4878samples  \n",
            "Time(Sec) X_ref_pos(i) X_enc_pos(i) X_pos_err(i) X_vel_ff(f) X_vel_fbf(f) X_ref_acc(f)  X_curr_abs(f)  \n",
            "0.000000  120000       120001       -1           0           -841.466     0                 0.0327418  \n",
            "0.006250  120000       120001       -1           0           -380.157     0                   0.04831  \n",
            "0.012500  120000       120001       -1           0           -1380.49     0                  0.041377  \n",
            "0.018750  120000       120002       -2           0           -11.3194     0                 0.0511831  \n"
          ]
        }
      ]
    },
    {
      "cell_type": "code",
      "source": [
        "print(df.shape)"
      ],
      "metadata": {
        "colab": {
          "base_uri": "https://localhost:8080/"
        },
        "id": "lWg0XClvCrrQ",
        "outputId": "aeef97b5-5464-443b-bd00-c67eac8d29d1"
      },
      "execution_count": 31,
      "outputs": [
        {
          "output_type": "stream",
          "name": "stdout",
          "text": [
            "(4879, 2)\n"
          ]
        }
      ]
    },
    {
      "cell_type": "code",
      "source": [
        ""
      ],
      "metadata": {
        "id": "XROLHGLdEDJ3"
      },
      "execution_count": null,
      "outputs": []
    }
  ]
}