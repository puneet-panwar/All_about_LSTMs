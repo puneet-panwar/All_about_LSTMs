{
  "nbformat": 4,
  "nbformat_minor": 0,
  "metadata": {
    "colab": {
      "name": "roll_modeling.ipynb",
      "provenance": [],
      "authorship_tag": "ABX9TyMTd0NqSH1IjQJvjx7uEboo",
      "include_colab_link": true
    },
    "kernelspec": {
      "name": "python3",
      "display_name": "Python 3"
    },
    "language_info": {
      "name": "python"
    }
  },
  "cells": [
    {
      "cell_type": "markdown",
      "metadata": {
        "id": "view-in-github",
        "colab_type": "text"
      },
      "source": [
        "<a href=\"https://colab.research.google.com/github/puneet-panwar/All_about_LSTMs/blob/main/roll_modeling.ipynb\" target=\"_parent\"><img src=\"https://colab.research.google.com/assets/colab-badge.svg\" alt=\"Open In Colab\"/></a>"
      ]
    },
    {
      "cell_type": "code",
      "execution_count": 20,
      "metadata": {
        "colab": {
          "base_uri": "https://localhost:8080/"
        },
        "id": "bAcxZhkm8E0Z",
        "outputId": "686b4ad6-33b1-4406-812a-f66748e49dde"
      },
      "outputs": [
        {
          "output_type": "stream",
          "name": "stdout",
          "text": [
            "Cloning into 'All_about_LSTMs'...\n",
            "remote: Enumerating objects: 28, done.\u001b[K\n",
            "remote: Counting objects:   3% (1/28)\u001b[K\rremote: Counting objects:   7% (2/28)\u001b[K\rremote: Counting objects:  10% (3/28)\u001b[K\rremote: Counting objects:  14% (4/28)\u001b[K\rremote: Counting objects:  17% (5/28)\u001b[K\rremote: Counting objects:  21% (6/28)\u001b[K\rremote: Counting objects:  25% (7/28)\u001b[K\rremote: Counting objects:  28% (8/28)\u001b[K\rremote: Counting objects:  32% (9/28)\u001b[K\rremote: Counting objects:  35% (10/28)\u001b[K\rremote: Counting objects:  39% (11/28)\u001b[K\rremote: Counting objects:  42% (12/28)\u001b[K\rremote: Counting objects:  46% (13/28)\u001b[K\rremote: Counting objects:  50% (14/28)\u001b[K\rremote: Counting objects:  53% (15/28)\u001b[K\rremote: Counting objects:  57% (16/28)\u001b[K\rremote: Counting objects:  60% (17/28)\u001b[K\rremote: Counting objects:  64% (18/28)\u001b[K\rremote: Counting objects:  67% (19/28)\u001b[K\rremote: Counting objects:  71% (20/28)\u001b[K\rremote: Counting objects:  75% (21/28)\u001b[K\rremote: Counting objects:  78% (22/28)\u001b[K\rremote: Counting objects:  82% (23/28)\u001b[K\rremote: Counting objects:  85% (24/28)\u001b[K\rremote: Counting objects:  89% (25/28)\u001b[K\rremote: Counting objects:  92% (26/28)\u001b[K\rremote: Counting objects:  96% (27/28)\u001b[K\rremote: Counting objects: 100% (28/28)\u001b[K\rremote: Counting objects: 100% (28/28), done.\u001b[K\n",
            "remote: Compressing objects: 100% (24/24), done.\u001b[K\n",
            "remote: Total 28 (delta 6), reused 0 (delta 0), pack-reused 0\u001b[K\n",
            "Unpacking objects: 100% (28/28), done.\n"
          ]
        }
      ],
      "source": [
        "!git clone https://github.com/puneet-panwar/All_about_LSTMs"
      ]
    },
    {
      "cell_type": "code",
      "source": [
        "import matplotlib.pyplot as plt\n",
        "import pandas as pd"
      ],
      "metadata": {
        "id": "m3P2ULVSDdTk"
      },
      "execution_count": 35,
      "outputs": []
    },
    {
      "cell_type": "code",
      "source": [
        "%pwd\n",
        "%ls\n",
        "%cd All_about_LSTMs"
      ],
      "metadata": {
        "colab": {
          "base_uri": "https://localhost:8080/"
        },
        "id": "MH85_34L-zFB",
        "outputId": "7fa53f8c-f98f-42ee-b2f5-38b510364f6c"
      },
      "execution_count": 21,
      "outputs": [
        {
          "output_type": "stream",
          "name": "stdout",
          "text": [
            "\u001b[0m\u001b[01;34mAll_about_LSTMs\u001b[0m/  \u001b[01;34mdata\u001b[0m/  README.md  roll_modeling.ipynb\n",
            "/content/All_about_LSTMs/All_about_LSTMs/All_about_LSTMs\n"
          ]
        }
      ]
    },
    {
      "cell_type": "code",
      "source": [
        "# reading data\n",
        "df = pd.read_csv('data/roll_02_05_2022_new.txt', delimiter=r\"\\s+\") # df--> data frame\n",
        "#df = pd.read_csv('data/roll_02_05_2022.txt') # df--> data frame\n",
        "df.shape\n",
        "result = df.head(10)\n",
        "print(\"First 10 rows of the DataFrame:\")\n",
        "print(result)\n",
        "df.shape\n",
        "#reader = csv.reader(open(\"data/roll_02_05_2022.txt\"), delimiter=\"\\t\") # '\\t' for tab and '\\s' for space delimited files"
      ],
      "metadata": {
        "colab": {
          "base_uri": "https://localhost:8080/"
        },
        "id": "N1kKQAyF_F1u",
        "outputId": "1030a711-cb90-4e05-ff52-3990a8a79ebf"
      },
      "execution_count": 27,
      "outputs": [
        {
          "output_type": "stream",
          "name": "stdout",
          "text": [
            "First 10 rows of the DataFrame:\n",
            "   Time(Sec)  X_ref_pos(i)  X_enc_pos(i)  X_pos_err(i)  X_vel_ff(f)  \\\n",
            "0    0.00000        120000        120001            -1          0.0   \n",
            "1    0.00625        120000        120001            -1          0.0   \n",
            "2    0.01250        120000        120001            -1          0.0   \n",
            "3    0.01875        120000        120002            -2          0.0   \n",
            "4    0.02500        120000        120001            -1          0.0   \n",
            "5    0.03125        120000        120001            -1          0.0   \n",
            "6    0.03750        120000        120001            -1          0.0   \n",
            "7    0.04375        120000        120002            -2          0.0   \n",
            "8    0.05000        120000        120001            -1          0.0   \n",
            "9    0.05625        120000        120001            -1          0.0   \n",
            "\n",
            "   X_vel_fbf(f)  X_ref_acc(f)  X_command(f)  X_curr_abs(f)  \n",
            "0     -841.4660           0.0       5.44362       0.032742  \n",
            "1     -380.1570           0.0       5.38166       0.048310  \n",
            "2    -1380.4900           0.0       5.52079       0.041377  \n",
            "3      -11.3194           0.0       5.31762       0.051183  \n",
            "4      599.3670           0.0       5.24705       0.065039  \n",
            "5      -65.9449           0.0       5.34180       0.092980  \n",
            "6      -32.0204           0.0       5.33183       0.018589  \n",
            "7      164.0210           0.0       5.29217       0.046582  \n",
            "8     -543.0670           0.0       5.40429       0.024388  \n",
            "9     -148.6770           0.0       5.34231       0.039951  \n"
          ]
        },
        {
          "output_type": "execute_result",
          "data": {
            "text/plain": [
              "(4878, 9)"
            ]
          },
          "metadata": {},
          "execution_count": 27
        }
      ]
    },
    {
      "cell_type": "code",
      "source": [
        "# assign variables:\n",
        "time = df.iloc[1:,0]\n",
        "ref_pos = df.iloc[1:,1] #in counts\n",
        "feedback_pos = df.iloc[1:,2] # encoder feedback in counts\n",
        "err_pos = df.iloc[1:,3]\n",
        "ref_vel = df.iloc[1:,4] #in counts/s\n",
        "feedback_vel = df.iloc[1:,5] #in counts/s\n",
        "ref_acc = df.iloc[1:,6] #counts/s^2\n",
        "command_current = df.iloc[1:, 7] #command current in A\n",
        "actual_current = df.iloc[1:,8]  #actual current in A"
      ],
      "metadata": {
        "id": "DSx4wA6B_ksw"
      },
      "execution_count": 37,
      "outputs": []
    },
    {
      "cell_type": "code",
      "source": [
        "#plotting\n",
        "plt.plot(time, ref_acc)\n",
        "#plt.axis([20, 90, 150, 175])\n",
        "plt.title(\" \")\n",
        "plt.xlabel('time(s)')\n",
        "plt.ylabel('')\n",
        "plt.grid(linestyle = '--', linewidth = 0.5)\n",
        "#plt.savefig('CTR_variation.png', dpi=300) # use before plt.show()"
      ],
      "metadata": {
        "id": "KNDeeI4r_XHp",
        "colab": {
          "base_uri": "https://localhost:8080/",
          "height": 295
        },
        "outputId": "bad32084-2840-43d0-dff6-7048bfb73b05"
      },
      "execution_count": 41,
      "outputs": [
        {
          "output_type": "display_data",
          "data": {
            "text/plain": [
              "<Figure size 432x288 with 1 Axes>"
            ],
            "image/png": "[encoded data removed]"
          },
          "metadata": {
            "needs_background": "light"
          }
        }
      ]
    },
    {
      "cell_type": "code",
      "source": [
        "print(df.head())"
      ],
      "metadata": {
        "colab": {
          "base_uri": "https://localhost:8080/"
        },
        "id": "BW60vqJECpvV",
        "outputId": "e28bb69e-e864-455d-995b-98ae612ea4ed"
      },
      "execution_count": null,
      "outputs": [
        {
          "output_type": "stream",
          "name": "stdout",
          "text": [
            "                                                                                       dt=0.00625sec,  \\\n",
            "Time(Sec) X_ref_pos(i) X_enc_pos(i) X_pos_err(i) X_vel_ff(f) X_vel_fbf(f) X_ref_acc(f)   X_command(f)   \n",
            "0.000000  120000       120001       -1           0           -841.466     0                   5.44362   \n",
            "0.006250  120000       120001       -1           0           -380.157     0                   5.38166   \n",
            "0.012500  120000       120001       -1           0           -1380.49     0                   5.52079   \n",
            "0.018750  120000       120002       -2           0           -11.3194     0                   5.31762   \n",
            "\n",
            "                                                                                          4878samples  \n",
            "Time(Sec) X_ref_pos(i) X_enc_pos(i) X_pos_err(i) X_vel_ff(f) X_vel_fbf(f) X_ref_acc(f)  X_curr_abs(f)  \n",
            "0.000000  120000       120001       -1           0           -841.466     0                 0.0327418  \n",
            "0.006250  120000       120001       -1           0           -380.157     0                   0.04831  \n",
            "0.012500  120000       120001       -1           0           -1380.49     0                  0.041377  \n",
            "0.018750  120000       120002       -2           0           -11.3194     0                 0.0511831  \n"
          ]
        }
      ]
    },
    {
      "cell_type": "code",
      "source": [
        "print(df2.shape)"
      ],
      "metadata": {
        "colab": {
          "base_uri": "https://localhost:8080/",
          "height": 167
        },
        "id": "lWg0XClvCrrQ",
        "outputId": "0b89cb78-eb12-41fd-a53f-b141483e0f66"
      },
      "execution_count": 1,
      "outputs": [
        {
          "output_type": "error",
          "ename": "NameError",
          "evalue": "ignored",
          "traceback": [
            "\u001b[0;31m---------------------------------------------------------------------------\u001b[0m",
            "\u001b[0;31mNameError\u001b[0m                                 Traceback (most recent call last)",
            "\u001b[0;32m<ipython-input-1-1d7ad62b0345>\u001b[0m in \u001b[0;36m<module>\u001b[0;34m()\u001b[0m\n\u001b[0;32m----> 1\u001b[0;31m \u001b[0mprint\u001b[0m\u001b[0;34m(\u001b[0m\u001b[0mdf2\u001b[0m\u001b[0;34m.\u001b[0m\u001b[0mshape\u001b[0m\u001b[0;34m)\u001b[0m\u001b[0;34m\u001b[0m\u001b[0;34m\u001b[0m\u001b[0m\n\u001b[0m",
            "\u001b[0;31mNameError\u001b[0m: name 'df2' is not defined"
          ]
        }
      ]
    },
    {
      "cell_type": "code",
      "source": [
        "!nvidia-smi"
      ],
      "metadata": {
        "id": "XROLHGLdEDJ3",
        "colab": {
          "base_uri": "https://localhost:8080/"
        },
        "outputId": "4f9ff91f-9cd3-4428-9524-812f04712e35"
      },
      "execution_count": 4,
      "outputs": [
        {
          "output_type": "stream",
          "name": "stdout",
          "text": [
            "NVIDIA-SMI has failed because it couldn't communicate with the NVIDIA driver. Make sure that the latest NVIDIA driver is installed and running.\n",
            "\n"
          ]
        }
      ]
    },
    {
      "cell_type": "code",
      "source": [
        "dt"
      ],
      "metadata": {
        "colab": {
          "base_uri": "https://localhost:8080/",
          "height": 35
        },
        "id": "A2a8fTut6wgK",
        "outputId": "64620415-60e5-4cbb-d1e8-aaff3bc3bf88"
      },
      "execution_count": 10,
      "outputs": [
        {
          "output_type": "execute_result",
          "data": {
            "text/plain": [
              "'X_command(f)'"
            ],
            "application/vnd.google.colaboratory.intrinsic+json": {
              "type": "string"
            }
          },
          "metadata": {},
          "execution_count": 10
        }
      ]
    },
    {
      "cell_type": "code",
      "source": [
        "N"
      ],
      "metadata": {
        "colab": {
          "base_uri": "https://localhost:8080/",
          "height": 35
        },
        "id": "ezCUchdQ-hii",
        "outputId": "b00a0391-0d70-4780-da8f-33cb9dbcaeb9"
      },
      "execution_count": 11,
      "outputs": [
        {
          "output_type": "execute_result",
          "data": {
            "text/plain": [
              "'X_curr_abs(f)'"
            ],
            "application/vnd.google.colaboratory.intrinsic+json": {
              "type": "string"
            }
          },
          "metadata": {},
          "execution_count": 11
        }
      ]
    },
    {
      "cell_type": "code",
      "source": [
        ""
      ],
      "metadata": {
        "id": "PgGIixEY-jZp"
      },
      "execution_count": null,
      "outputs": []
    }
  ]
}