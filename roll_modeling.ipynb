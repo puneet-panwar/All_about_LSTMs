{
  "nbformat": 4,
  "nbformat_minor": 0,
  "metadata": {
    "colab": {
      "name": "roll_modeling.ipynb",
      "provenance": [],
      "authorship_tag": "ABX9TyMeWt4wczWkPth6AcpKt/ob",
      "include_colab_link": true
    },
    "kernelspec": {
      "name": "python3",
      "display_name": "Python 3"
    },
    "language_info": {
      "name": "python"
    }
  },
  "cells": [
    {
      "cell_type": "markdown",
      "metadata": {
        "id": "view-in-github",
        "colab_type": "text"
      },
      "source": [
        "<a href=\"https://colab.research.google.com/github/puneet-panwar/All_about_LSTMs/blob/main/roll_modeling.ipynb\" target=\"_parent\"><img src=\"https://colab.research.google.com/assets/colab-badge.svg\" alt=\"Open In Colab\"/></a>"
      ]
    },
    {
      "cell_type": "code",
      "execution_count": 20,
      "metadata": {
        "colab": {
          "base_uri": "https://localhost:8080/"
        },
        "id": "bAcxZhkm8E0Z",
        "outputId": "686b4ad6-33b1-4406-812a-f66748e49dde"
      },
      "outputs": [
        {
          "output_type": "stream",
          "name": "stdout",
          "text": [
            "Cloning into 'All_about_LSTMs'...\n",
            "remote: Enumerating objects: 28, done.\u001b[K\n",
            "remote: Counting objects:   3% (1/28)\u001b[K\rremote: Counting objects:   7% (2/28)\u001b[K\rremote: Counting objects:  10% (3/28)\u001b[K\rremote: Counting objects:  14% (4/28)\u001b[K\rremote: Counting objects:  17% (5/28)\u001b[K\rremote: Counting objects:  21% (6/28)\u001b[K\rremote: Counting objects:  25% (7/28)\u001b[K\rremote: Counting objects:  28% (8/28)\u001b[K\rremote: Counting objects:  32% (9/28)\u001b[K\rremote: Counting objects:  35% (10/28)\u001b[K\rremote: Counting objects:  39% (11/28)\u001b[K\rremote: Counting objects:  42% (12/28)\u001b[K\rremote: Counting objects:  46% (13/28)\u001b[K\rremote: Counting objects:  50% (14/28)\u001b[K\rremote: Counting objects:  53% (15/28)\u001b[K\rremote: Counting objects:  57% (16/28)\u001b[K\rremote: Counting objects:  60% (17/28)\u001b[K\rremote: Counting objects:  64% (18/28)\u001b[K\rremote: Counting objects:  67% (19/28)\u001b[K\rremote: Counting objects:  71% (20/28)\u001b[K\rremote: Counting objects:  75% (21/28)\u001b[K\rremote: Counting objects:  78% (22/28)\u001b[K\rremote: Counting objects:  82% (23/28)\u001b[K\rremote: Counting objects:  85% (24/28)\u001b[K\rremote: Counting objects:  89% (25/28)\u001b[K\rremote: Counting objects:  92% (26/28)\u001b[K\rremote: Counting objects:  96% (27/28)\u001b[K\rremote: Counting objects: 100% (28/28)\u001b[K\rremote: Counting objects: 100% (28/28), done.\u001b[K\n",
            "remote: Compressing objects: 100% (24/24), done.\u001b[K\n",
            "remote: Total 28 (delta 6), reused 0 (delta 0), pack-reused 0\u001b[K\n",
            "Unpacking objects: 100% (28/28), done.\n"
          ]
        }
      ],
      "source": [
        "!git clone https://github.com/puneet-panwar/All_about_LSTMs"
      ]
    },
    {
      "cell_type": "code",
      "source": [
        "import matplotlib.pyplot as plt\n",
        "import pandas as pd"
      ],
      "metadata": {
        "id": "m3P2ULVSDdTk"
      },
      "execution_count": 35,
      "outputs": []
    },
    {
      "cell_type": "code",
      "source": [
        "%pwd\n",
        "%ls\n",
        "%cd All_about_LSTMs"
      ],
      "metadata": {
        "colab": {
          "base_uri": "https://localhost:8080/"
        },
        "id": "MH85_34L-zFB",
        "outputId": "7fa53f8c-f98f-42ee-b2f5-38b510364f6c"
      },
      "execution_count": 21,
      "outputs": [
        {
          "output_type": "stream",
          "name": "stdout",
          "text": [
            "\u001b[0m\u001b[01;34mAll_about_LSTMs\u001b[0m/  \u001b[01;34mdata\u001b[0m/  README.md  roll_modeling.ipynb\n",
            "/content/All_about_LSTMs/All_about_LSTMs/All_about_LSTMs\n"
          ]
        }
      ]
    },
    {
      "cell_type": "code",
      "source": [
        "## reading data\n",
        "\n",
        "df = pd.read_csv('data/roll_02_05_2022_new.txt', delimiter=r\"\\s+\") # df--> data frame\n",
        "#df = pd.read_csv('data/roll_02_05_2022.txt') # df--> data frame\n",
        "df.shape\n",
        "result = df.head(10)\n",
        "print(\"First 10 rows of the DataFrame:\")\n",
        "print(result)\n",
        "df.shape\n",
        "#reader = csv.reader(open(\"data/roll_02_05_2022.txt\"), delimiter=\"\\t\") # '\\t' for tab and '\\s' for space delimited files"
      ],
      "metadata": {
        "colab": {
          "base_uri": "https://localhost:8080/"
        },
        "id": "N1kKQAyF_F1u",
        "outputId": "1030a711-cb90-4e05-ff52-3990a8a79ebf"
      },
      "execution_count": 27,
      "outputs": [
        {
          "output_type": "stream",
          "name": "stdout",
          "text": [
            "First 10 rows of the DataFrame:\n",
            "   Time(Sec)  X_ref_pos(i)  X_enc_pos(i)  X_pos_err(i)  X_vel_ff(f)  \\\n",
            "0    0.00000        120000        120001            -1          0.0   \n",
            "1    0.00625        120000        120001            -1          0.0   \n",
            "2    0.01250        120000        120001            -1          0.0   \n",
            "3    0.01875        120000        120002            -2          0.0   \n",
            "4    0.02500        120000        120001            -1          0.0   \n",
            "5    0.03125        120000        120001            -1          0.0   \n",
            "6    0.03750        120000        120001            -1          0.0   \n",
            "7    0.04375        120000        120002            -2          0.0   \n",
            "8    0.05000        120000        120001            -1          0.0   \n",
            "9    0.05625        120000        120001            -1          0.0   \n",
            "\n",
            "   X_vel_fbf(f)  X_ref_acc(f)  X_command(f)  X_curr_abs(f)  \n",
            "0     -841.4660           0.0       5.44362       0.032742  \n",
            "1     -380.1570           0.0       5.38166       0.048310  \n",
            "2    -1380.4900           0.0       5.52079       0.041377  \n",
            "3      -11.3194           0.0       5.31762       0.051183  \n",
            "4      599.3670           0.0       5.24705       0.065039  \n",
            "5      -65.9449           0.0       5.34180       0.092980  \n",
            "6      -32.0204           0.0       5.33183       0.018589  \n",
            "7      164.0210           0.0       5.29217       0.046582  \n",
            "8     -543.0670           0.0       5.40429       0.024388  \n",
            "9     -148.6770           0.0       5.34231       0.039951  \n"
          ]
        },
        {
          "output_type": "execute_result",
          "data": {
            "text/plain": [
              "(4878, 9)"
            ]
          },
          "metadata": {},
          "execution_count": 27
        }
      ]
    },
    {
      "cell_type": "code",
      "source": [
        "## assign variables:\n",
        "\n",
        "N, variables = df.shape #N = number of samples\n",
        "time = df.iloc[:,0]\n",
        "ref_pos = df.iloc[:,1] #in counts\n",
        "feedback_pos = df.iloc[:,2] # encoder feedback in counts\n",
        "err_pos = df.iloc[:,3]\n",
        "ref_vel = df.iloc[:,4] #in counts/s\n",
        "feedback_vel = df.iloc[:,5] #in counts/s\n",
        "ref_acc = df.iloc[:,6] #counts/s^2\n",
        "command_current = df.iloc[:, 7] #command current in A\n",
        "actual_current = df.iloc[:,8]  #actual current in A"
      ],
      "metadata": {
        "id": "DSx4wA6B_ksw"
      },
      "execution_count": 51,
      "outputs": []
    },
    {
      "cell_type": "code",
      "source": [
        "## plotting\n",
        "\n",
        "plt.plot(time, ref_acc)\n",
        "#plt.axis([20, 90, 150, 175])\n",
        "plt.title(\" \")\n",
        "plt.xlabel('time(s)')\n",
        "plt.ylabel('')\n",
        "plt.grid(linestyle = '--', linewidth = 0.5)\n",
        "#plt.savefig('CTR_variation.png', dpi=300) # use before plt.show()"
      ],
      "metadata": {
        "id": "KNDeeI4r_XHp",
        "colab": {
          "base_uri": "https://localhost:8080/",
          "height": 295
        },
        "outputId": "7e112588-7bec-4691-a2cc-45560ca94319"
      },
      "execution_count": 48,
      "outputs": [
        {
          "output_type": "display_data",
          "data": {
            "text/plain": [
              "<Figure size 432x288 with 1 Axes>"
            ],
            "image/png": "[encoded data removed]"
          },
          "metadata": {
            "needs_background": "light"
          }
        }
      ]
    },
    {
      "cell_type": "code",
      "source": [
        "df_data.head()"
      ],
      "metadata": {
        "id": "SK2-X6ANH_un",
        "outputId": "220505cb-ebec-41af-d98a-03299ee84593",
        "colab": {
          "base_uri": "https://localhost:8080/",
          "height": 270
        }
      },
      "execution_count": 46,
      "outputs": [
        {
          "output_type": "execute_result",
          "data": {
            "text/plain": [
              "   Time(Sec)  X_ref_pos(i)  X_enc_pos(i)  X_pos_err(i)  X_vel_ff(f)  \\\n",
              "1    0.00625        120000        120001            -1          0.0   \n",
              "2    0.01250        120000        120001            -1          0.0   \n",
              "3    0.01875        120000        120002            -2          0.0   \n",
              "4    0.02500        120000        120001            -1          0.0   \n",
              "5    0.03125        120000        120001            -1          0.0   \n",
              "\n",
              "   X_vel_fbf(f)  X_ref_acc(f)  X_command(f)  X_curr_abs(f)  \n",
              "1     -380.1570           0.0       5.38166       0.048310  \n",
              "2    -1380.4900           0.0       5.52079       0.041377  \n",
              "3      -11.3194           0.0       5.31762       0.051183  \n",
              "4      599.3670           0.0       5.24705       0.065039  \n",
              "5      -65.9449           0.0       5.34180       0.092980  "
            ],
            "text/html": [
              "\n",
              "  <div id=\"df-25f6d5a4-8104-47d0-ade9-b4a1015229d5\">\n",
              "    <div class=\"colab-df-container\">\n",
              "      <div>\n",
              "<style scoped>\n",
              "    .dataframe tbody tr th:only-of-type {\n",
              "        vertical-align: middle;\n",
              "    }\n",
              "\n",
              "    .dataframe tbody tr th {\n",
              "        vertical-align: top;\n",
              "    }\n",
              "\n",
              "    .dataframe thead th {\n",
              "        text-align: right;\n",
              "    }\n",
              "</style>\n",
              "<table border=\"1\" class=\"dataframe\">\n",
              "  <thead>\n",
              "    <tr style=\"text-align: right;\">\n",
              "      <th></th>\n",
              "      <th>Time(Sec)</th>\n",
              "      <th>X_ref_pos(i)</th>\n",
              "      <th>X_enc_pos(i)</th>\n",
              "      <th>X_pos_err(i)</th>\n",
              "      <th>X_vel_ff(f)</th>\n",
              "      <th>X_vel_fbf(f)</th>\n",
              "      <th>X_ref_acc(f)</th>\n",
              "      <th>X_command(f)</th>\n",
              "      <th>X_curr_abs(f)</th>\n",
              "    </tr>\n",
              "  </thead>\n",
              "  <tbody>\n",
              "    <tr>\n",
              "      <th>1</th>\n",
              "      <td>0.00625</td>\n",
              "      <td>120000</td>\n",
              "      <td>120001</td>\n",
              "      <td>-1</td>\n",
              "      <td>0.0</td>\n",
              "      <td>-380.1570</td>\n",
              "      <td>0.0</td>\n",
              "      <td>5.38166</td>\n",
              "      <td>0.048310</td>\n",
              "    </tr>\n",
              "    <tr>\n",
              "      <th>2</th>\n",
              "      <td>0.01250</td>\n",
              "      <td>120000</td>\n",
              "      <td>120001</td>\n",
              "      <td>-1</td>\n",
              "      <td>0.0</td>\n",
              "      <td>-1380.4900</td>\n",
              "      <td>0.0</td>\n",
              "      <td>5.52079</td>\n",
              "      <td>0.041377</td>\n",
              "    </tr>\n",
              "    <tr>\n",
              "      <th>3</th>\n",
              "      <td>0.01875</td>\n",
              "      <td>120000</td>\n",
              "      <td>120002</td>\n",
              "      <td>-2</td>\n",
              "      <td>0.0</td>\n",
              "      <td>-11.3194</td>\n",
              "      <td>0.0</td>\n",
              "      <td>5.31762</td>\n",
              "      <td>0.051183</td>\n",
              "    </tr>\n",
              "    <tr>\n",
              "      <th>4</th>\n",
              "      <td>0.02500</td>\n",
              "      <td>120000</td>\n",
              "      <td>120001</td>\n",
              "      <td>-1</td>\n",
              "      <td>0.0</td>\n",
              "      <td>599.3670</td>\n",
              "      <td>0.0</td>\n",
              "      <td>5.24705</td>\n",
              "      <td>0.065039</td>\n",
              "    </tr>\n",
              "    <tr>\n",
              "      <th>5</th>\n",
              "      <td>0.03125</td>\n",
              "      <td>120000</td>\n",
              "      <td>120001</td>\n",
              "      <td>-1</td>\n",
              "      <td>0.0</td>\n",
              "      <td>-65.9449</td>\n",
              "      <td>0.0</td>\n",
              "      <td>5.34180</td>\n",
              "      <td>0.092980</td>\n",
              "    </tr>\n",
              "  </tbody>\n",
              "</table>\n",
              "</div>\n",
              "      <button class=\"colab-df-convert\" onclick=\"convertToInteractive('df-25f6d5a4-8104-47d0-ade9-b4a1015229d5')\"\n",
              "              title=\"Convert this dataframe to an interactive table.\"\n",
              "              style=\"display:none;\">\n",
              "        \n",
              "  <svg xmlns=\"http://www.w3.org/2000/svg\" height=\"24px\"viewBox=\"0 0 24 24\"\n",
              "       width=\"24px\">\n",
              "    <path d=\"M0 0h24v24H0V0z\" fill=\"none\"/>\n",
              "    <path d=\"M18.56 5.44l.94 2.06.94-2.06 2.06-.94-2.06-.94-.94-2.06-.94 2.06-2.06.94zm-11 1L8.5 8.5l.94-2.06 2.06-.94-2.06-.94L8.5 2.5l-.94 2.06-2.06.94zm10 10l.94 2.06.94-2.06 2.06-.94-2.06-.94-.94-2.06-.94 2.06-2.06.94z\"/><path d=\"M17.41 7.96l-1.37-1.37c-.4-.4-.92-.59-1.43-.59-.52 0-1.04.2-1.43.59L10.3 9.45l-7.72 7.72c-.78.78-.78 2.05 0 2.83L4 21.41c.39.39.9.59 1.41.59.51 0 1.02-.2 1.41-.59l7.78-7.78 2.81-2.81c.8-.78.8-2.07 0-2.86zM5.41 20L4 18.59l7.72-7.72 1.47 1.35L5.41 20z\"/>\n",
              "  </svg>\n",
              "      </button>\n",
              "      \n",
              "  <style>\n",
              "    .colab-df-container {\n",
              "      display:flex;\n",
              "      flex-wrap:wrap;\n",
              "      gap: 12px;\n",
              "    }\n",
              "\n",
              "    .colab-df-convert {\n",
              "      background-color: #E8F0FE;\n",
              "      border: none;\n",
              "      border-radius: 50%;\n",
              "      cursor: pointer;\n",
              "      display: none;\n",
              "      fill: #1967D2;\n",
              "      height: 32px;\n",
              "      padding: 0 0 0 0;\n",
              "      width: 32px;\n",
              "    }\n",
              "\n",
              "    .colab-df-convert:hover {\n",
              "      background-color: #E2EBFA;\n",
              "      box-shadow: 0px 1px 2px rgba(60, 64, 67, 0.3), 0px 1px 3px 1px rgba(60, 64, 67, 0.15);\n",
              "      fill: #174EA6;\n",
              "    }\n",
              "\n",
              "    [theme=dark] .colab-df-convert {\n",
              "      background-color: #3B4455;\n",
              "      fill: #D2E3FC;\n",
              "    }\n",
              "\n",
              "    [theme=dark] .colab-df-convert:hover {\n",
              "      background-color: #434B5C;\n",
              "      box-shadow: 0px 1px 3px 1px rgba(0, 0, 0, 0.15);\n",
              "      filter: drop-shadow(0px 1px 2px rgba(0, 0, 0, 0.3));\n",
              "      fill: #FFFFFF;\n",
              "    }\n",
              "  </style>\n",
              "\n",
              "      <script>\n",
              "        const buttonEl =\n",
              "          document.querySelector('#df-25f6d5a4-8104-47d0-ade9-b4a1015229d5 button.colab-df-convert');\n",
              "        buttonEl.style.display =\n",
              "          google.colab.kernel.accessAllowed ? 'block' : 'none';\n",
              "\n",
              "        async function convertToInteractive(key) {\n",
              "          const element = document.querySelector('#df-25f6d5a4-8104-47d0-ade9-b4a1015229d5');\n",
              "          const dataTable =\n",
              "            await google.colab.kernel.invokeFunction('convertToInteractive',\n",
              "                                                     [key], {});\n",
              "          if (!dataTable) return;\n",
              "\n",
              "          const docLinkHtml = 'Like what you see? Visit the ' +\n",
              "            '<a target=\"_blank\" href=https://colab.research.google.com/notebooks/data_table.ipynb>data table notebook</a>'\n",
              "            + ' to learn more about interactive tables.';\n",
              "          element.innerHTML = '';\n",
              "          dataTable['output_type'] = 'display_data';\n",
              "          await google.colab.output.renderOutput(dataTable, element);\n",
              "          const docLink = document.createElement('div');\n",
              "          docLink.innerHTML = docLinkHtml;\n",
              "          element.appendChild(docLink);\n",
              "        }\n",
              "      </script>\n",
              "    </div>\n",
              "  </div>\n",
              "  "
            ]
          },
          "metadata": {},
          "execution_count": 46
        }
      ]
    },
    {
      "cell_type": "code",
      "source": [
        ""
      ],
      "metadata": {
        "id": "V7SbkDyPLqdY"
      },
      "execution_count": null,
      "outputs": []
    }
  ]
}