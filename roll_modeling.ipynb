{
  "nbformat": 4,
  "nbformat_minor": 0,
  "metadata": {
    "colab": {
      "name": "roll_modeling.ipynb",
      "provenance": [],
      "authorship_tag": "ABX9TyP47FHek84HCNfWn/daEg1B",
      "include_colab_link": true
    },
    "kernelspec": {
      "name": "python3",
      "display_name": "Python 3"
    },
    "language_info": {
      "name": "python"
    }
  },
  "cells": [
    {
      "cell_type": "markdown",
      "metadata": {
        "id": "view-in-github",
        "colab_type": "text"
      },
      "source": [
        "<a href=\"https://colab.research.google.com/github/puneet-panwar/All_about_LSTMs/blob/main/roll_modeling.ipynb\" target=\"_parent\"><img src=\"https://colab.research.google.com/assets/colab-badge.svg\" alt=\"Open In Colab\"/></a>"
      ]
    },
    {
      "cell_type": "code",
      "execution_count": 3,
      "metadata": {
        "colab": {
          "base_uri": "https://localhost:8080/"
        },
        "id": "bAcxZhkm8E0Z",
        "outputId": "d52a8699-695a-422c-bded-cc10b41741ae"
      },
      "outputs": [
        {
          "output_type": "stream",
          "name": "stdout",
          "text": [
            "fatal: destination path 'All_about_LSTMs' already exists and is not an empty directory.\n"
          ]
        }
      ],
      "source": [
        "!git clone https://github.com/puneet-panwar/All_about_LSTMs"
      ]
    },
    {
      "cell_type": "code",
      "source": [
        "import matplotlib.pyplot as plt\n",
        "import pandas as pd"
      ],
      "metadata": {
        "id": "m3P2ULVSDdTk"
      },
      "execution_count": 4,
      "outputs": []
    },
    {
      "cell_type": "code",
      "source": [
        "%pwd\n",
        "%ls\n",
        "%cd All_about_LSTMs"
      ],
      "metadata": {
        "colab": {
          "base_uri": "https://localhost:8080/"
        },
        "id": "MH85_34L-zFB",
        "outputId": "0476a133-e2c5-4f11-cd70-3f1718b6fd17"
      },
      "execution_count": 5,
      "outputs": [
        {
          "output_type": "stream",
          "name": "stdout",
          "text": [
            "\u001b[0m\u001b[01;34mAll_about_LSTMs\u001b[0m/  \u001b[01;34msample_data\u001b[0m/\n",
            "/content/All_about_LSTMs\n"
          ]
        }
      ]
    },
    {
      "cell_type": "code",
      "source": [
        "## reading data\n",
        "\n",
        "df = pd.read_csv('data/roll_02_05_2022_new.txt', delimiter=r\"\\s+\") # df--> data frame\n",
        "#df = pd.read_csv('data/roll_02_05_2022.txt') # df--> data frame\n",
        "df.shape\n",
        "result = df.head(10)\n",
        "print(\"First 10 rows of the DataFrame:\")\n",
        "print(result)\n",
        "df.shape\n",
        "#reader = csv.reader(open(\"data/roll_02_05_2022.txt\"), delimiter=\"\\t\") # '\\t' for tab and '\\s' for space delimited files"
      ],
      "metadata": {
        "colab": {
          "base_uri": "https://localhost:8080/"
        },
        "id": "N1kKQAyF_F1u",
        "outputId": "bd0e4d16-a735-456f-b0c5-c6785c30db52"
      },
      "execution_count": 6,
      "outputs": [
        {
          "output_type": "stream",
          "name": "stdout",
          "text": [
            "First 10 rows of the DataFrame:\n",
            "   Time(Sec)  X_ref_pos(i)  X_enc_pos(i)  X_pos_err(i)  X_vel_ff(f)  \\\n",
            "0    0.00000        120000        120001            -1          0.0   \n",
            "1    0.00625        120000        120001            -1          0.0   \n",
            "2    0.01250        120000        120001            -1          0.0   \n",
            "3    0.01875        120000        120002            -2          0.0   \n",
            "4    0.02500        120000        120001            -1          0.0   \n",
            "5    0.03125        120000        120001            -1          0.0   \n",
            "6    0.03750        120000        120001            -1          0.0   \n",
            "7    0.04375        120000        120002            -2          0.0   \n",
            "8    0.05000        120000        120001            -1          0.0   \n",
            "9    0.05625        120000        120001            -1          0.0   \n",
            "\n",
            "   X_vel_fbf(f)  X_ref_acc(f)  X_command(f)  X_curr_abs(f)  \n",
            "0     -841.4660           0.0       5.44362       0.032742  \n",
            "1     -380.1570           0.0       5.38166       0.048310  \n",
            "2    -1380.4900           0.0       5.52079       0.041377  \n",
            "3      -11.3194           0.0       5.31762       0.051183  \n",
            "4      599.3670           0.0       5.24705       0.065039  \n",
            "5      -65.9449           0.0       5.34180       0.092980  \n",
            "6      -32.0204           0.0       5.33183       0.018589  \n",
            "7      164.0210           0.0       5.29217       0.046582  \n",
            "8     -543.0670           0.0       5.40429       0.024388  \n",
            "9     -148.6770           0.0       5.34231       0.039951  \n"
          ]
        },
        {
          "output_type": "execute_result",
          "data": {
            "text/plain": [
              "(4878, 9)"
            ]
          },
          "metadata": {},
          "execution_count": 6
        }
      ]
    },
    {
      "cell_type": "code",
      "source": [
        "## assign variables:\n",
        "\n",
        "N, variables = df.shape #N = number of samples\n",
        "time = df.iloc[:,0]\n",
        "ref_pos = df.iloc[:,1] #in counts\n",
        "feedback_pos = df.iloc[:,2] # encoder feedback in counts\n",
        "err_pos = df.iloc[:,3]\n",
        "ref_vel = df.iloc[:,4] #in counts/s\n",
        "feedback_vel = df.iloc[:,5] #in counts/s\n",
        "ref_acc = df.iloc[:,6] #counts/s^2\n",
        "command_current = df.iloc[:, 7] #command current in A\n",
        "actual_current = df.iloc[:,8]  #actual current in A"
      ],
      "metadata": {
        "id": "DSx4wA6B_ksw"
      },
      "execution_count": 7,
      "outputs": []
    },
    {
      "cell_type": "code",
      "source": [
        "## plotting\n",
        "\n",
        "plt.plot(time, command_current)\n",
        "#plt.axis([20, 90, 150, 175])\n",
        "plt.title(\" \")\n",
        "plt.xlabel('time(s)')\n",
        "plt.ylabel('')\n",
        "plt.grid(linestyle = '--', linewidth = 0.5)\n",
        "#plt.savefig('CTR_variation.png', dpi=300) # use before plt.show()"
      ],
      "metadata": {
        "id": "KNDeeI4r_XHp",
        "colab": {
          "base_uri": "https://localhost:8080/",
          "height": 295
        },
        "outputId": "7454c229-0917-476c-968a-9ef6d0025ed9"
      },
      "execution_count": 8,
      "outputs": [
        {
          "output_type": "display_data",
          "data": {
            "text/plain": [
              "<Figure size 432x288 with 1 Axes>"
            ],
            "image/png": "[encoded data removed]"
          },
          "metadata": {
            "needs_background": "light"
          }
        }
      ]
    },
    {
      "cell_type": "code",
      "source": [
        "max(command_current)"
      ],
      "metadata": {
        "colab": {
          "base_uri": "https://localhost:8080/"
        },
        "id": "V7SbkDyPLqdY",
        "outputId": "f1780d0d-9dde-4c6c-9527-cd7304eef1aa"
      },
      "execution_count": 10,
      "outputs": [
        {
          "output_type": "execute_result",
          "data": {
            "text/plain": [
              "308.314"
            ]
          },
          "metadata": {},
          "execution_count": 10
        }
      ]
    },
    {
      "cell_type": "code",
      "source": [
        ""
      ],
      "metadata": {
        "id": "kZ0CGoqhV0iT"
      },
      "execution_count": null,
      "outputs": []
    }
  ]
}