{
  "nbformat": 4,
  "nbformat_minor": 0,
  "metadata": {
    "colab": {
      "provenance": [],
      "authorship_tag": "ABX9TyO0RkQx4s2XbJCugKE8ge+6",
      "include_colab_link": true
    },
    "kernelspec": {
      "name": "python3",
      "display_name": "Python 3"
    },
    "language_info": {
      "name": "python"
    }
  },
  "cells": [
    {
      "cell_type": "markdown",
      "metadata": {
        "id": "view-in-github",
        "colab_type": "text"
      },
      "source": [
        "<a href=\"https://colab.research.google.com/github/puneet-panwar/All_about_LSTMs/blob/main/Basics_of_Time_series_modeling.ipynb\" target=\"_parent\"><img src=\"https://colab.research.google.com/assets/colab-badge.svg\" alt=\"Open In Colab\"/></a>"
      ]
    },
    {
      "cell_type": "markdown",
      "source": [
        "The Jewish prophet Isaiah wrote in about 700 BC:\n",
        "\n",
        "***Tell us what the future holds, so we may know that you are gods.***\n",
        "\n",
        "\n",
        "\n",
        "### **Why forecasting is required?**\n",
        "\n",
        "Forecasting is required in many situations:\n",
        "\n",
        "1. Predicitng the future electricity demand to decide whether new power plants are to be built ot not?\n",
        "2. Stocking an inventory requires forecast of stock requirements.\n",
        "\n",
        "Whatever the circumstances or time horizons involved, forecasting is an important aid to effective and efficient planning. \n",
        "\n",
        "Forecasting is obviously a difficult activity, and businesses that do it well have a big advantage over those whose forecasts fail. This book explores the most reliable methods for producing forecasts. \n",
        "\n",
        "The emphasis will be on methods that are replicable and testable, and have been shown to work.\n",
        "\n",
        "### **Q. what can be forecasted?**\n",
        "The predictability of an event or a quantity depends on several factors including:\n",
        "\n",
        "1. how well we understand the factors that contribute to it;\n",
        "2. how much data is available;\n",
        "3. whether the forecasts can affect the thing we are trying to forecast.\n",
        "\n",
        "For example, forecasts of electricity demand can be highly accurate because all three conditions are usually satisfied. We have a good idea of the contributing factors: electricity demand is driven largely by temperatures, with smaller effects for calendar variation such as holidays, and economic conditions. Provided there is a sufficient history of data on electricity demand and weather conditions, and we have the skills to develop a good model linking electricity demand and the key driver variables, the forecasts can be remarkably accurate.\n",
        "\n",
        "Often in forecasting, a key step is knowing when something can be forecast accurately, and when forecasts will be no better than tossing a coin. Good forecasts capture the genuine patterns and relationships which exist in the historical data, but do not replicate past events that will not occur again. In this book, we will learn how to tell the difference between a random fluctuation in the past data that should be ignored, and a genuine pattern that should be modelled and extrapolated.\n",
        "\n",
        "\n"
      ],
      "metadata": {
        "id": "pO3vpMvHemXH"
      }
    },
    {
      "cell_type": "markdown",
      "source": [],
      "metadata": {
        "id": "49NiL-GInpC9"
      }
    }
  ]
}