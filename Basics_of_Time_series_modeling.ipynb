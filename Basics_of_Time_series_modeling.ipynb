{
  "nbformat": 4,
  "nbformat_minor": 0,
  "metadata": {
    "colab": {
      "provenance": [],
      "authorship_tag": "ABX9TyMhSkf+tN8pjLzqdqSfcbIw",
      "include_colab_link": true
    },
    "kernelspec": {
      "name": "python3",
      "display_name": "Python 3"
    },
    "language_info": {
      "name": "python"
    }
  },
  "cells": [
    {
      "cell_type": "markdown",
      "metadata": {
        "id": "view-in-github",
        "colab_type": "text"
      },
      "source": [
        "<a href=\"https://colab.research.google.com/github/puneet-panwar/All_about_LSTMs/blob/main/Basics_of_Time_series_modeling.ipynb\" target=\"_parent\"><img src=\"https://colab.research.google.com/assets/colab-badge.svg\" alt=\"Open In Colab\"/></a>"
      ]
    },
    {
      "cell_type": "markdown",
      "source": [
        "The Jewish prophet Isaiah wrote in about 700 BC:\n",
        "\n",
        "***Tell us what the future holds, so we may know that you are gods.***\n",
        "\n",
        "\n",
        "- Forecasting is obviously a difficult activity, and businesses that do it well have a big advantage over those whose forecasts fail.\n",
        "\n",
        "- In this book, we will explore the most reliable methods for producing forecasts. The emphasis will be on methods that are replicable and testable, and have been shown to work.\n",
        "\n",
        "### **Why forecasting is required?**\n",
        "\n",
        "Forecasting is required in many situations:\n",
        "\n",
        "1. Predicitng the future electricity demand to decide whether new power plants are to be built ot not?\n",
        "2. Stocking an inventory requires forecast of stock requirements.\n",
        "\n",
        "Whatever the circumstances or time horizons involved, forecasting is an important aid to effective and efficient planning.\n",
        "\n",
        "### Q. what can be forecasted?\n",
        "\n"
      ],
      "metadata": {
        "id": "pO3vpMvHemXH"
      }
    }
  ]
}