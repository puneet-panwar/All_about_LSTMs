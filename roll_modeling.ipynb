{
  "nbformat": 4,
  "nbformat_minor": 0,
  "metadata": {
    "colab": {
      "name": "roll_modeling.ipynb",
      "provenance": [],
      "authorship_tag": "ABX9TyNVFXlB26EJNX4NL1azdVH1",
      "include_colab_link": true
    },
    "kernelspec": {
      "name": "python3",
      "display_name": "Python 3"
    },
    "language_info": {
      "name": "python"
    }
  },
  "cells": [
    {
      "cell_type": "markdown",
      "metadata": {
        "id": "view-in-github",
        "colab_type": "text"
      },
      "source": [
        "<a href=\"https://colab.research.google.com/github/puneet-panwar/All_about_LSTMs/blob/main/roll_modeling.ipynb\" target=\"_parent\"><img src=\"https://colab.research.google.com/assets/colab-badge.svg\" alt=\"Open In Colab\"/></a>"
      ]
    },
    {
      "cell_type": "code",
      "execution_count": 2,
      "metadata": {
        "colab": {
          "base_uri": "https://localhost:8080/"
        },
        "id": "bAcxZhkm8E0Z",
        "outputId": "7933dccf-316e-4c33-88af-591371505319"
      },
      "outputs": [
        {
          "output_type": "stream",
          "name": "stdout",
          "text": [
            "Cloning into 'All_about_LSTMs'...\n",
            "remote: Enumerating objects: 40, done.\u001b[K\n",
            "remote: Counting objects: 100% (40/40), done.\u001b[K\n",
            "remote: Compressing objects: 100% (36/36), done.\u001b[K\n",
            "remote: Total 40 (delta 11), reused 0 (delta 0), pack-reused 0\u001b[K\n",
            "Unpacking objects: 100% (40/40), done.\n"
          ]
        }
      ],
      "source": [
        "!git clone https://github.com/puneet-panwar/All_about_LSTMs"
      ]
    },
    {
      "cell_type": "code",
      "source": [
        "import matplotlib.pyplot as plt\n",
        "import pandas as pd"
      ],
      "metadata": {
        "id": "m3P2ULVSDdTk"
      },
      "execution_count": 3,
      "outputs": []
    },
    {
      "cell_type": "code",
      "source": [
        "%pwd\n",
        "%ls\n",
        "%cd All_about_LSTMs"
      ],
      "metadata": {
        "colab": {
          "base_uri": "https://localhost:8080/"
        },
        "id": "MH85_34L-zFB",
        "outputId": "4f60e21e-a56e-4fa8-86ee-cef3470eefdf"
      },
      "execution_count": 4,
      "outputs": [
        {
          "output_type": "stream",
          "name": "stdout",
          "text": [
            "\u001b[0m\u001b[01;34mAll_about_LSTMs\u001b[0m/  \u001b[01;34msample_data\u001b[0m/\n",
            "/content/All_about_LSTMs\n"
          ]
        }
      ]
    },
    {
      "cell_type": "code",
      "source": [
        "## reading data\n",
        "\n",
        "df = pd.read_csv('data/roll_02_05_2022_new.txt', delimiter=r\"\\s+\") # df--> data frame\n",
        "#df = pd.read_csv('data/roll_02_05_2022.txt') # df--> data frame\n",
        "df.shape\n",
        "result = df.head(10)\n",
        "print(\"First 10 rows of the DataFrame:\")\n",
        "print(result)\n",
        "df.shape\n",
        "#reader = csv.reader(open(\"data/roll_02_05_2022.txt\"), delimiter=\"\\t\") # '\\t' for tab and '\\s' for space delimited files\n",
        "\n",
        "## Motor parameters:\n",
        "torque_const = 3.9 # Nm/A_rms\n",
        "# motor has incremental encoder with a resolution of 4320000 counts/rev --> 360 deg  = 4320000 counts\n",
        "c2d = 360/4320000 # counts to degs conversion factor"
      ],
      "metadata": {
        "colab": {
          "base_uri": "https://localhost:8080/"
        },
        "id": "N1kKQAyF_F1u",
        "outputId": "a1446b85-b571-4a5a-bffd-0cc3b7c492e7"
      },
      "execution_count": 13,
      "outputs": [
        {
          "output_type": "stream",
          "name": "stdout",
          "text": [
            "First 10 rows of the DataFrame:\n",
            "   Time(Sec)  X_ref_pos(i)  X_enc_pos(i)  X_pos_err(i)  X_vel_ff(f)  \\\n",
            "0    0.00000        120000        120001            -1          0.0   \n",
            "1    0.00625        120000        120001            -1          0.0   \n",
            "2    0.01250        120000        120001            -1          0.0   \n",
            "3    0.01875        120000        120002            -2          0.0   \n",
            "4    0.02500        120000        120001            -1          0.0   \n",
            "5    0.03125        120000        120001            -1          0.0   \n",
            "6    0.03750        120000        120001            -1          0.0   \n",
            "7    0.04375        120000        120002            -2          0.0   \n",
            "8    0.05000        120000        120001            -1          0.0   \n",
            "9    0.05625        120000        120001            -1          0.0   \n",
            "\n",
            "   X_vel_fbf(f)  X_ref_acc(f)  X_command(f)  X_curr_abs(f)  \n",
            "0     -841.4660           0.0       5.44362       0.032742  \n",
            "1     -380.1570           0.0       5.38166       0.048310  \n",
            "2    -1380.4900           0.0       5.52079       0.041377  \n",
            "3      -11.3194           0.0       5.31762       0.051183  \n",
            "4      599.3670           0.0       5.24705       0.065039  \n",
            "5      -65.9449           0.0       5.34180       0.092980  \n",
            "6      -32.0204           0.0       5.33183       0.018589  \n",
            "7      164.0210           0.0       5.29217       0.046582  \n",
            "8     -543.0670           0.0       5.40429       0.024388  \n",
            "9     -148.6770           0.0       5.34231       0.039951  \n"
          ]
        }
      ]
    },
    {
      "cell_type": "code",
      "source": [
        "## assign variables:\n",
        "\n",
        "N, variables = df.shape #N = number of samples\n",
        "time = df.iloc[:,0]\n",
        "ref_pos = c2d*df.iloc[:,1] #in deg\n",
        "feedback_pos = c2d*df.iloc[:,2] # encoder feedback in deg\n",
        "err_pos = c2d*df.iloc[:,3]\n",
        "ref_vel = c2d*df.iloc[:,4] #in deg/s\n",
        "feedback_vel = c2d*df.iloc[:,5] #in deg/s\n",
        "ref_acc = c2d*df.iloc[:,6] # deg/s^2\n",
        "command_current = df.iloc[:, 7] #command current in A\n",
        "actual_current = df.iloc[:,8]  #actual current in A"
      ],
      "metadata": {
        "id": "DSx4wA6B_ksw"
      },
      "execution_count": 15,
      "outputs": []
    },
    {
      "cell_type": "code",
      "source": [
        "## plotting\n",
        "\n",
        "plt.plot(time, actual_current)\n",
        "#plt.axis([20, 90, 150, 175])\n",
        "plt.title(\" \")\n",
        "plt.xlabel('time(s)')\n",
        "plt.ylabel('')\n",
        "plt.grid(linestyle = '--', linewidth = 0.5)\n",
        "#plt.savefig('CTR_variation.png', dpi=300) # use before plt.show()"
      ],
      "metadata": {
        "id": "KNDeeI4r_XHp",
        "colab": {
          "base_uri": "https://localhost:8080/",
          "height": 295
        },
        "outputId": "3dd42779-e98a-44ba-c63d-9eaf840d956d"
      },
      "execution_count": 21,
      "outputs": [
        {
          "output_type": "display_data",
          "data": {
            "text/plain": [
              "<Figure size 432x288 with 1 Axes>"
            ],
            "image/png": "[encoded data removed]"
          },
          "metadata": {
            "needs_background": "light"
          }
        }
      ]
    },
    {
      "cell_type": "code",
      "source": [
        "max(command_current)"
      ],
      "metadata": {
        "colab": {
          "base_uri": "https://localhost:8080/"
        },
        "id": "V7SbkDyPLqdY",
        "outputId": "0ed2e558-006c-4760-a405-80b0ba6fa5b4"
      },
      "execution_count": 8,
      "outputs": [
        {
          "output_type": "execute_result",
          "data": {
            "text/plain": [
              "308.314"
            ]
          },
          "metadata": {},
          "execution_count": 8
        }
      ]
    },
    {
      "cell_type": "code",
      "source": [
        "max(actual_current)"
      ],
      "metadata": {
        "id": "kZ0CGoqhV0iT",
        "outputId": "10596b31-9af9-4a4b-ddae-39b501a156f9",
        "colab": {
          "base_uri": "https://localhost:8080/"
        }
      },
      "execution_count": 9,
      "outputs": [
        {
          "output_type": "execute_result",
          "data": {
            "text/plain": [
              "38.2125"
            ]
          },
          "metadata": {},
          "execution_count": 9
        }
      ]
    },
    {
      "cell_type": "code",
      "source": [
        "max(ref_pos)"
      ],
      "metadata": {
        "id": "G44Ap3yzqtOm",
        "outputId": "8ee96077-559c-46ad-dc0e-8adc29e486f4",
        "colab": {
          "base_uri": "https://localhost:8080/"
        }
      },
      "execution_count": 10,
      "outputs": [
        {
          "output_type": "execute_result",
          "data": {
            "text/plain": [
              "120000"
            ]
          },
          "metadata": {},
          "execution_count": 10
        }
      ]
    },
    {
      "cell_type": "code",
      "source": [
        "360*(120000/4320000)"
      ],
      "metadata": {
        "id": "Dzy6CJUKPQmX",
        "outputId": "9936fbcb-3e2c-446e-ac73-bc5fc8cbbb23",
        "colab": {
          "base_uri": "https://localhost:8080/"
        }
      },
      "execution_count": 12,
      "outputs": [
        {
          "output_type": "execute_result",
          "data": {
            "text/plain": [
              "10.0"
            ]
          },
          "metadata": {},
          "execution_count": 12
        }
      ]
    },
    {
      "cell_type": "code",
      "source": [
        "c2d\n"
      ],
      "metadata": {
        "id": "gc1DPdDyP5ey",
        "outputId": "76fdfaff-2114-49b0-eebb-8cf29d9bf490",
        "colab": {
          "base_uri": "https://localhost:8080/"
        }
      },
      "execution_count": 14,
      "outputs": [
        {
          "output_type": "execute_result",
          "data": {
            "text/plain": [
              "8.333333333333333e-05"
            ]
          },
          "metadata": {},
          "execution_count": 14
        }
      ]
    },
    {
      "cell_type": "code",
      "source": [
        ""
      ],
      "metadata": {
        "id": "7yctJrpYRfT6"
      },
      "execution_count": null,
      "outputs": []
    }
  ]
}