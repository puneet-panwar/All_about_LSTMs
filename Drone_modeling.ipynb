{
  "nbformat": 4,
  "nbformat_minor": 0,
  "metadata": {
    "colab": {
      "provenance": [],
      "authorship_tag": "ABX9TyNlBajfS3cd2sJOA2ui3+bS",
      "include_colab_link": true
    },
    "kernelspec": {
      "name": "python3",
      "display_name": "Python 3"
    },
    "language_info": {
      "name": "python"
    }
  },
  "cells": [
    {
      "cell_type": "markdown",
      "metadata": {
        "id": "view-in-github",
        "colab_type": "text"
      },
      "source": [
        "<a href=\"https://colab.research.google.com/github/puneet-panwar/All_about_LSTMs/blob/main/Drone_modeling.ipynb\" target=\"_parent\"><img src=\"https://colab.research.google.com/assets/colab-badge.svg\" alt=\"Open In Colab\"/></a>"
      ]
    },
    {
      "cell_type": "code",
      "source": [
        "# libraries\n",
        "import numpy as np\n",
        "from math import sin,cos\n"
      ],
      "metadata": {
        "id": "MAg_-X1zBXuC"
      },
      "execution_count": null,
      "outputs": []
    },
    {
      "cell_type": "code",
      "execution_count": 1,
      "metadata": {
        "id": "XWjC-Wsy-Ifs"
      },
      "outputs": [],
      "source": [
        "## Simulation time\n",
        "T = 20 # s\n",
        "dt = 1e-3  # step-size\n",
        "t = np.arange(0,T,dt)\n",
        "L = len(t)\n",
        "\n",
        "## Model Parameters\n",
        "J1 = 0.05 # in Kg-m^2\n",
        "J2 = 0.05 # in Kg-m^2\n",
        "J3 = 0.10\n",
        "m = 4 # in Kg.\n",
        "l1 = 0.315 # in m.\n",
        "l2 = 1 # in m.\n",
        "l = l1\n",
        "g = 9.18 # m/s^2\n",
        "tf = 20 # s\n",
        "\n",
        "## F = c*tau --> c is force-torque scaling factor\n",
        "c = 1.0\n",
        "\n",
        "## ki drag coefficient\n",
        "k1, k2, k3, k4, k5, k6 = 0, 0, 0, 0, 0, 0\n",
        "ct = 1.0 # (Tn = CT*Wn^2)"
      ]
    },
    {
      "cell_type": "code",
      "source": [
        "# rotor velocity\n",
        "w1 = \n",
        "w2 = \n",
        "w3 = \n",
        "w4 = \n",
        "\n",
        "# inputs --> rotor thrust (N) is a function of rotational velocity.\n",
        "f1 = ct*w1**2\n",
        "f2 = ct*w2**2\n",
        "f3 = ct*w3**2\n",
        "f4 = ct*w4**2\n",
        "\n",
        "u1 = (f1 + f2 + f3 + f4)/m\n",
        "u2 = (-f1 - f2 + f3 + f4)/J1\n",
        "u3 = (-f1 + f2 + f3 - f4)/J2\n",
        "u4 = c*(f1- f2 + f3 - f4)/J3\n"
      ],
      "metadata": {
        "id": "WyWP4QAiCWP4"
      },
      "execution_count": null,
      "outputs": []
    },
    {
      "cell_type": "code",
      "source": [
        "# drone_dynamics\n",
        "# add drag effects later\n",
        "\n",
        "def acc(u1,u2, u3, u4, phi, theta, psi):\n",
        "    x_ddot = u1*(cos(phi)*sin(theta)*cos(psi) + sin(phi)*sin(psi))\n",
        "    y_ddot = u1*(sin(theta)*sin(psi)*cos(phi) - cos(psi)*sin(phi))\n",
        "    z_ddot = u1*(cos(theta)*cos(phi)) - g\n",
        "    theta_ddot = u2*l\n",
        "    psi_ddot = u3*l\n",
        "    phi_ddot = u4\n",
        "    return [x_ddot, y_ddot, z_ddot, theta_ddot, psi_ddot, p]\n"
      ],
      "metadata": {
        "id": "aGu_Vs98BMXR"
      },
      "execution_count": null,
      "outputs": []
    }
  ]
}